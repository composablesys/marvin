{
 "cells": [
  {
   "cell_type": "markdown",
   "source": [],
   "metadata": {
    "collapsed": false
   },
   "id": "a52d86708ef45426"
  },
  {
   "cell_type": "code",
   "outputs": [],
   "source": [
    "from dotenv import load_dotenv\n",
    "from pydantic import Field\n",
    "\n",
    "load_dotenv()\n",
    "import marvin\n",
    "from marvin.settings import temporary_settings\n",
    "from typing import Annotated, List\n",
    "from annotated_types import Predicate"
   ],
   "metadata": {
    "collapsed": false,
    "ExecuteTime": {
     "end_time": "2024-04-27T23:19:43.477388Z",
     "start_time": "2024-04-27T23:19:43.471974Z"
    }
   },
   "id": "5ff73436200e7230",
   "execution_count": 4
  },
  {
   "cell_type": "markdown",
   "source": [
    "# Final Report\n",
    "Peter Yong Zhong\n",
    "17-730 Prompt Engineering \n",
    "Do not redistribute \n",
    "\n",
    "## Abstract\n",
    "\n",
    "## Introduction\n",
    "\n",
    "Large Language Models have made a significant impact on the field of software engineering and is often touted as a revolution that will forever change how software engineers develop, test and deploy their code. Generally speaking, the impact to SE has been localized to two main areas: first, the development and generation of executable code[1][2], and second, the integration of LM calls into the logic of other software systems. For the latter, generally speaking, developers either perform manual string based manipulation based on some prompt template and use the foundation model APIs directly, or rely on one of the many popular frameworks in existence to perform their LM needs. Such popularity and diversity of patterns of LM programming abstractions has also invited active research in this area. The Language Model System Interface Model (LMSI)[3], for instance, is recently proposed to stratify the abstractions to seven layer of increasing abstractness. The authors have also observed five families of LM abstractions that have emerged for popular frameworks. \n",
    "\n",
    "Unfortunately, many of these frameworks places their emphasis on the machine learning aspects of LMs focused on incorporating novel prompting techniques[4], pipeline designs[5] and efficient inference[6]. In a setting where an LM is *progressively* integrated into an existing software system, we argue that framework designers should instead employ a bottom up approach where the concerns and patterns of programming is the starting point, and LMs are used to augment these patterns to provide a powerful generalization and analysis computational semantics. \n",
    "\n",
    "The layer at which the developers interact with LMs are almost always at the level of a Programming Language. Similar to Object Oriented Programming[7], Async Await programming[8] and Object Relational Mappers[9], there is a wealth of examples where language features have empowered developers to more conveniently express their business logic in a more abstract and general sense, and the compiler is able to \"desugar\" these constructs to a more low level implementation that is not always easy to work with. For this project, we also wish to explore how we could design such language features in a Programming Language in a post LM environment, in particular to ascertain the challenges and the opportunities it may introduce and unlock. \n",
    "\n",
    "In this project, we augment a popular LM framework, Marvin[10], one of the few frameworks that echos our philosophy, observing this more bottoms up approach, focused on empowering developers who \"care more about *using* AI than *building* AI\". It introduces a few helpful coding constructs for transforming data, extracting entities, classification and AI functions. These constructs serve as a starting point for our designs. \n",
    "\n",
    "Our contributions are focused on three areas. First, we both propose and implement a set of language features that are empowered by LMs and provide an open source implementation of these features under the Apache license. These features are focused on Higher Order Types and Functions, Contracts and Semantic Pattern Matching. Second, we introduce a novel notion of a *Natural Language Types*, which connect a software need for structure, along with the LMs tendency for fuzziness. Lastly, we detail a novel type driven and unit-tests driven code generation methodology that, while currently unimplemented, opens up potential for future work.\n",
    " "
   ],
   "metadata": {
    "collapsed": false
   },
   "id": "24fe46583cac36dd"
  },
  {
   "cell_type": "markdown",
   "source": [
    "## Natural Language Types\n",
    "\n",
    "Generally speaking, a type in a programming language performs two important interrelated tasks: First it lays out the schema of some data model. That is, the type specifies what information an object of that type should have and what \"type\" or constraint that each subpieces of these information should have. These constraints are either statically or dyanmically checked so that when the program encounter an object of a given type, it would know how to access the fields appropriately. A second consideration for types, especially in the object oriented environment, is that the way programmers reason about types is very similar to how we reason about objects outside of programming in the space of natural language. This intuitive understanding of inheritance and types are helpful since an LLM trained on human languages tend to similarly be able to reason about it. \n",
    "\n",
    "The idea behind *Natural Language Types* is extremely simple and is mainly comprised of two components. Firstly, in a natual language environment, the traditional types of `int`, `string` may be woefully insufficient for describing the more complex fuzzy constraints. Furthermore, in a traditional typing environment, the interdependencies between different fields are difficult to capture. Therefore, the first component of Natural Language Types is the ability to define both Field level and InterField level constraints using natural language. This component will be crucial in later sections as it forms one of the backbone of the Natural Language contract system.\n",
    " "
   ],
   "metadata": {
    "collapsed": false
   },
   "id": "7c47992a1cc8614e"
  },
  {
   "cell_type": "markdown",
   "source": [
    "We can explore this idea through an example below. Here, let's start off with a simple, traditional type - Pilot. "
   ],
   "metadata": {
    "collapsed": false
   },
   "id": "94944b830930725a"
  },
  {
   "cell_type": "code",
   "outputs": [
    {
     "data": {
      "text/plain": "Pilot(other_information=None, id=1, name='Noah Tabuex', plane_model='Cessna 172', certificate='PPL', airport='KPIT')"
     },
     "execution_count": 3,
     "metadata": {},
     "output_type": "execute_result"
    }
   ],
   "source": [
    "class Pilot(marvin.NaturalLangType):\n",
    "    id: int\n",
    "    name: str\n",
    "    plane_model: str\n",
    "    certificate: str\n",
    "    airport: str\n",
    "\n",
    "Pilot(id = 1, name=\"Noah Tabuex\", plane_model=\"Cessna 172\", certificate=\"PPL\", airport = \"KPIT\")"
   ],
   "metadata": {
    "collapsed": false,
    "ExecuteTime": {
     "end_time": "2024-04-27T21:39:46.875275Z",
     "start_time": "2024-04-27T21:39:46.868480Z"
    }
   },
   "id": "2d60296dbd80fe5a",
   "execution_count": 3
  },
  {
   "cell_type": "markdown",
   "source": [
    "With Natural Language Types, we should be able to use natural language to specify certain constraints. Here in this case, we could rely on the internal knowledge of the LM to validate the result. Here we are using `temporary_setting` to enable the contract capabilities. We chose this design since we argue that contracts should mainly be a develop time artifact that should be disabled in production to minimize performance degradations."
   ],
   "metadata": {
    "collapsed": false
   },
   "id": "e18c33466ea3e462"
  },
  {
   "cell_type": "code",
   "outputs": [],
   "source": [
    "class Pilot(marvin.NaturalLangType):\n",
    "    id: int\n",
    "    name: str\n",
    "    plane_model: Annotated[str, Predicate(marvin.val_contract(\"Plane must contain more than 1 engine\"))]\n",
    "    certificate: str\n",
    "    airport: str"
   ],
   "metadata": {
    "collapsed": false,
    "ExecuteTime": {
     "end_time": "2024-04-27T22:16:10.811178Z",
     "start_time": "2024-04-27T22:16:10.804482Z"
    }
   },
   "id": "47e989aeb0678326",
   "execution_count": 2
  },
  {
   "cell_type": "code",
   "outputs": [
    {
     "ename": "ValidationError",
     "evalue": "1 validation error for Pilot\nplane_model\n  Predicate val_contract.<locals>.wrapper failed [type=predicate_failed, input_value='Cessna 172', input_type=str]",
     "output_type": "error",
     "traceback": [
      "\u001B[0;31m---------------------------------------------------------------------------\u001B[0m",
      "\u001B[0;31mValidationError\u001B[0m                           Traceback (most recent call last)",
      "Cell \u001B[0;32mIn[7], line 9\u001B[0m\n\u001B[1;32m      6\u001B[0m     airport: \u001B[38;5;28mstr\u001B[39m\n\u001B[1;32m      8\u001B[0m \u001B[38;5;28;01mwith\u001B[39;00m temporary_settings(ai__text__disable_contract\u001B[38;5;241m=\u001B[39m\u001B[38;5;28;01mFalse\u001B[39;00m):\n\u001B[0;32m----> 9\u001B[0m     Pilot(\u001B[38;5;28mid\u001B[39m \u001B[38;5;241m=\u001B[39m \u001B[38;5;241m1\u001B[39m, name\u001B[38;5;241m=\u001B[39m\u001B[38;5;124m\"\u001B[39m\u001B[38;5;124mNoah Tabuex\u001B[39m\u001B[38;5;124m\"\u001B[39m, plane_model\u001B[38;5;241m=\u001B[39m\u001B[38;5;124m\"\u001B[39m\u001B[38;5;124mCessna 172\u001B[39m\u001B[38;5;124m\"\u001B[39m, certificate\u001B[38;5;241m=\u001B[39m\u001B[38;5;124m\"\u001B[39m\u001B[38;5;124mPPL\u001B[39m\u001B[38;5;124m\"\u001B[39m, airport \u001B[38;5;241m=\u001B[39m \u001B[38;5;124m\"\u001B[39m\u001B[38;5;124mKPIT\u001B[39m\u001B[38;5;124m\"\u001B[39m)\n",
      "File \u001B[0;32m~/anaconda3/envs/marvin-fork/lib/python3.11/site-packages/pydantic/main.py:171\u001B[0m, in \u001B[0;36mBaseModel.__init__\u001B[0;34m(self, **data)\u001B[0m\n\u001B[1;32m    169\u001B[0m \u001B[38;5;66;03m# `__tracebackhide__` tells pytest and some other tools to omit this function from tracebacks\u001B[39;00m\n\u001B[1;32m    170\u001B[0m __tracebackhide__ \u001B[38;5;241m=\u001B[39m \u001B[38;5;28;01mTrue\u001B[39;00m\n\u001B[0;32m--> 171\u001B[0m \u001B[38;5;28mself\u001B[39m\u001B[38;5;241m.\u001B[39m__pydantic_validator__\u001B[38;5;241m.\u001B[39mvalidate_python(data, self_instance\u001B[38;5;241m=\u001B[39m\u001B[38;5;28mself\u001B[39m)\n",
      "\u001B[0;31mValidationError\u001B[0m: 1 validation error for Pilot\nplane_model\n  Predicate val_contract.<locals>.wrapper failed [type=predicate_failed, input_value='Cessna 172', input_type=str]"
     ]
    }
   ],
   "source": [
    "with temporary_settings(ai__text__disable_contract=False):\n",
    "    Pilot(id = 1, name=\"Noah Tabuex\", plane_model=\"Cessna 172\", certificate=\"PPL\", airport = \"KPIT\")"
   ],
   "metadata": {
    "collapsed": false,
    "ExecuteTime": {
     "end_time": "2024-04-27T21:44:57.919134Z",
     "start_time": "2024-04-27T21:44:57.299087Z"
    }
   },
   "id": "417cfcdb0cd31261",
   "execution_count": 7
  },
  {
   "cell_type": "code",
   "outputs": [
    {
     "data": {
      "text/plain": "Pilot(other_information=None, id=1, name='Noah Tabuex', plane_model='Boeing 747', certificate='PPL', airport='KPIT')"
     },
     "execution_count": 3,
     "metadata": {},
     "output_type": "execute_result"
    }
   ],
   "source": [
    "with temporary_settings(ai__text__disable_contract=False):\n",
    "    p = Pilot(id = 1, name=\"Noah Tabuex\", plane_model=\"Boeing 747\", certificate=\"PPL\", airport = \"KPIT\")\n",
    "p"
   ],
   "metadata": {
    "collapsed": false,
    "ExecuteTime": {
     "end_time": "2024-04-27T22:16:13.401465Z",
     "start_time": "2024-04-27T22:16:12.352889Z"
    }
   },
   "id": "7925bb179a4b48ef",
   "execution_count": 3
  },
  {
   "cell_type": "markdown",
   "source": [
    "The natural language constraints, as mentioned above, could also be applied in a more global fashion. In this example, we are also demonstrating natural language inhertance. Usually in programming, inheritence refines a type by introducing additional fields and restricting behaviors. However, the refinement could in fact be other restrictions or constraints that we place. \n"
   ],
   "metadata": {
    "collapsed": false
   },
   "id": "4feeb170bcea26e6"
  },
  {
   "cell_type": "code",
   "outputs": [],
   "source": [
    "class Pilot(marvin.NaturalLangType):\n",
    "    id: int\n",
    "    name: str\n",
    "    plane_model: str\n",
    "    certificate: str\n",
    "    airport: str"
   ],
   "metadata": {
    "collapsed": false,
    "ExecuteTime": {
     "end_time": "2024-04-27T23:19:28.917270Z",
     "start_time": "2024-04-27T23:19:28.908150Z"
    }
   },
   "id": "fcbdfac05f484cfd",
   "execution_count": 2
  },
  {
   "cell_type": "code",
   "outputs": [],
   "source": [
    "from typing import List\n",
    "\n",
    "\n",
    "class AdvancedPilot(Pilot):\n",
    "    @classmethod\n",
    "    def natural_lang_constraints(cls) -> List[str]:\n",
    "        existing = super().natural_lang_constraints()\n",
    "        new_constraints = [\n",
    "            \"The certificate should allow pilot to fly for compensation and is suitable for the plane_model\"\n",
    "        ]\n",
    "        return existing + new_constraints"
   ],
   "metadata": {
    "collapsed": false,
    "ExecuteTime": {
     "end_time": "2024-04-27T22:33:49.660144Z",
     "start_time": "2024-04-27T22:33:49.656771Z"
    }
   },
   "id": "2a073663deeeef18",
   "execution_count": 4
  },
  {
   "cell_type": "code",
   "outputs": [
    {
     "ename": "ValidationError",
     "evalue": "1 validation error for AdvancedPilot\n  Value error, Natural language constraints not met:The certificate should allow pilot to fly for compensation and is suitable for the plane_model\n [type=value_error, input_value={'id': 1, 'name': 'Noah T...PPL', 'airport': 'KPIT'}, input_type=dict]\n    For further information visit https://errors.pydantic.dev/2.6/v/value_error",
     "output_type": "error",
     "traceback": [
      "\u001B[0;31m---------------------------------------------------------------------------\u001B[0m",
      "\u001B[0;31mValidationError\u001B[0m                           Traceback (most recent call last)",
      "Cell \u001B[0;32mIn[4], line 2\u001B[0m\n\u001B[1;32m      1\u001B[0m \u001B[38;5;28;01mwith\u001B[39;00m temporary_settings(ai__text__disable_contract\u001B[38;5;241m=\u001B[39m\u001B[38;5;28;01mFalse\u001B[39;00m):\n\u001B[0;32m----> 2\u001B[0m     ap \u001B[38;5;241m=\u001B[39m AdvancedPilot(\u001B[38;5;28mid\u001B[39m \u001B[38;5;241m=\u001B[39m \u001B[38;5;241m1\u001B[39m, name\u001B[38;5;241m=\u001B[39m\u001B[38;5;124m\"\u001B[39m\u001B[38;5;124mNoah Tabuex\u001B[39m\u001B[38;5;124m\"\u001B[39m, plane_model\u001B[38;5;241m=\u001B[39m\u001B[38;5;124m\"\u001B[39m\u001B[38;5;124mBoeing 747\u001B[39m\u001B[38;5;124m\"\u001B[39m, certificate\u001B[38;5;241m=\u001B[39m\u001B[38;5;124m\"\u001B[39m\u001B[38;5;124mPPL\u001B[39m\u001B[38;5;124m\"\u001B[39m, airport \u001B[38;5;241m=\u001B[39m \u001B[38;5;124m\"\u001B[39m\u001B[38;5;124mKPIT\u001B[39m\u001B[38;5;124m\"\u001B[39m)\n\u001B[1;32m      3\u001B[0m     \u001B[38;5;66;03m# A Private Pilot's license is probably not sufficient for a Boeing 747\u001B[39;00m\n\u001B[1;32m      4\u001B[0m ap\n",
      "File \u001B[0;32m~/anaconda3/envs/marvin-fork/lib/python3.11/site-packages/pydantic/main.py:171\u001B[0m, in \u001B[0;36mBaseModel.__init__\u001B[0;34m(self, **data)\u001B[0m\n\u001B[1;32m    169\u001B[0m \u001B[38;5;66;03m# `__tracebackhide__` tells pytest and some other tools to omit this function from tracebacks\u001B[39;00m\n\u001B[1;32m    170\u001B[0m __tracebackhide__ \u001B[38;5;241m=\u001B[39m \u001B[38;5;28;01mTrue\u001B[39;00m\n\u001B[0;32m--> 171\u001B[0m \u001B[38;5;28mself\u001B[39m\u001B[38;5;241m.\u001B[39m__pydantic_validator__\u001B[38;5;241m.\u001B[39mvalidate_python(data, self_instance\u001B[38;5;241m=\u001B[39m\u001B[38;5;28mself\u001B[39m)\n",
      "\u001B[0;31mValidationError\u001B[0m: 1 validation error for AdvancedPilot\n  Value error, Natural language constraints not met:The certificate should allow pilot to fly for compensation and is suitable for the plane_model\n [type=value_error, input_value={'id': 1, 'name': 'Noah T...PPL', 'airport': 'KPIT'}, input_type=dict]\n    For further information visit https://errors.pydantic.dev/2.6/v/value_error"
     ]
    }
   ],
   "source": [
    "with temporary_settings(ai__text__disable_contract=False):\n",
    "    ap = AdvancedPilot(id = 1, name=\"Noah Tabuex\", plane_model=\"Boeing 747\", certificate=\"PPL\", airport = \"KPIT\")\n",
    "    # A Private Pilot's license is probably not sufficient for a Boeing 747\n",
    "ap"
   ],
   "metadata": {
    "collapsed": false,
    "ExecuteTime": {
     "end_time": "2024-04-27T22:18:56.602815Z",
     "start_time": "2024-04-27T22:18:55.737976Z"
    }
   },
   "id": "5a4b711eca4655a6",
   "execution_count": 4
  },
  {
   "cell_type": "code",
   "outputs": [
    {
     "data": {
      "text/plain": "AdvancedPilot(other_information=None, id=1, name='Noah Tabuex', plane_model='Airbus A380', certificate='ATP with Type Rating', airport='KPIT')"
     },
     "execution_count": 6,
     "metadata": {},
     "output_type": "execute_result"
    }
   ],
   "source": [
    "with temporary_settings(ai__text__disable_contract=False):\n",
    "    ap = AdvancedPilot(id = 1, name=\"Noah Tabuex\", plane_model=\"Airbus A380\", certificate=\"ATP with Type Rating\", airport = \"KPIT\")\n",
    "    # ATP refer to airline transport pilot which can carry passengers \n",
    "ap"
   ],
   "metadata": {
    "collapsed": false,
    "ExecuteTime": {
     "end_time": "2024-04-27T22:34:52.639258Z",
     "start_time": "2024-04-27T22:34:33.630456Z"
    }
   },
   "id": "d1af2afb2527ceba",
   "execution_count": 6
  },
  {
   "cell_type": "markdown",
   "source": [
    "Astute readers might notice a field `other_information` that is printed, but is not otherwise defined. This powers the second aspect of Natural Language Types. When an LM is generating content, excessively constraining its output, for instance through having restricted and often limited fields might hamper future performance. Instead, the LMs should be given an opportunity to store other relevant information about an object in **natural language** which could be used in the future. \n",
    "\n",
    "Let's continue with the Piloting example, and this time we use one of the constructs already provided by Marvin to illustrate this:\n"
   ],
   "metadata": {
    "collapsed": false
   },
   "id": "ed79433d6fba9dfa"
  },
  {
   "cell_type": "code",
   "outputs": [],
   "source": [
    "pilot = marvin.extract(\"Noah Singer, employee number 321, is a Boeing 747 Pilot holding an Airline Transport Pilot with 1000 hours of operations. He mainly flies from KPIT.\", Pilot)[0]"
   ],
   "metadata": {
    "collapsed": false,
    "ExecuteTime": {
     "end_time": "2024-04-27T23:04:37.479202Z",
     "start_time": "2024-04-27T23:04:34.380499Z"
    }
   },
   "id": "10f5abaf3a01353b",
   "execution_count": 4
  },
  {
   "cell_type": "code",
   "outputs": [
    {
     "data": {
      "text/plain": "Pilot(other_information='1000 hours of operations', id=321, name='Noah Singer', plane_model='Boeing 747', certificate='Airline Transport Pilot', airport='KPIT')"
     },
     "execution_count": 5,
     "metadata": {},
     "output_type": "execute_result"
    }
   ],
   "source": [
    "pilot"
   ],
   "metadata": {
    "collapsed": false,
    "ExecuteTime": {
     "end_time": "2024-04-27T23:04:39.158451Z",
     "start_time": "2024-04-27T23:04:39.156149Z"
    }
   },
   "id": "756e9e1a50eb64b3",
   "execution_count": 5
  },
  {
   "cell_type": "markdown",
   "source": [
    "Here, the LM has dynamically captured the 1000 hours of operations as possible information to be used in the future. Let's imagine a scenario where we want to use this object in some other natural language computation, here say through Marvin's AI function.  "
   ],
   "metadata": {
    "collapsed": false
   },
   "id": "189ad4d822c6cbd"
  },
  {
   "cell_type": "code",
   "outputs": [
    {
     "data": {
      "text/plain": "True"
     },
     "execution_count": 7,
     "metadata": {},
     "output_type": "execute_result"
    }
   ],
   "source": [
    "@marvin.ai_fn\n",
    "def is_experience_pilot(pilot: Pilot) -> bool:\n",
    "    \"Returns whether the pilot has significant experience or straight out of pilot school\"\n",
    "    \n",
    "is_experience_pilot(pilot)"
   ],
   "metadata": {
    "collapsed": false,
    "ExecuteTime": {
     "end_time": "2024-04-27T23:04:58.624391Z",
     "start_time": "2024-04-27T23:04:57.625657Z"
    }
   },
   "id": "86b32dc95754ba7f",
   "execution_count": 7
  },
  {
   "cell_type": "markdown",
   "source": [
    "The key takeaway is that the loss of information when transitioning between different perspectives (natural language vs programming) need not to be constrained by the relative loss of information dettermined by the complexity of the type but can retain information in the natural language environment. "
   ],
   "metadata": {
    "collapsed": false
   },
   "id": "13747a8b31a9c50f"
  },
  {
   "cell_type": "markdown",
   "source": [
    "For programmers familiar with C++, and especially its dynamic casting structure with its inheritence structure, natural language types allow us to express this concept as well. For instance, we might have an ExperiencedPilot class:"
   ],
   "metadata": {
    "collapsed": false
   },
   "id": "568c62016d3c230b"
  },
  {
   "cell_type": "code",
   "outputs": [
    {
     "name": "stdout",
     "output_type": "stream",
     "text": [
      "\n",
      "ExperiencedPilot(other_information=None, id=1, name='Noah Tabuex', plane_model='Airbus A380', certificate='ATP with Type Rating', airport='KPIT', hours_flown=1000)\n",
      "None\n"
     ]
    }
   ],
   "source": [
    "from annotated_types import Gt\n",
    "\n",
    "\n",
    "class ExperiencedPilot(Pilot):\n",
    "    \n",
    "    hours_flown : Annotated[int, Gt(500)] = Field(description=\"Hours flown by the pilot\")\n",
    "    @classmethod\n",
    "    def natural_lang_constraints(cls) -> List[str]:\n",
    "        existing = super().natural_lang_constraints()\n",
    "        new_constraints = [\n",
    "            \"The Pilot must be experienced and has not had disciplinary infractions\"\n",
    "        ]\n",
    "        return existing + new_constraints\n",
    "\n",
    "print(marvin.try_cast(pilot,ExperiencedPilot))\n",
    "pilot_unexperienced = marvin.extract(\"Noah Singer, employee number 344, is a Boeing 747 Pilot holding an Airline Transport Pilot with 1000 hours of operations. He mainly flies from KPIT. Noah was recently convicted of a DUI and is placed under suspension. \", Pilot)[0]\n",
    "print(marvin.try_cast(pilot_unexperienced,ExperiencedPilot))"
   ],
   "metadata": {
    "collapsed": false,
    "ExecuteTime": {
     "end_time": "2024-04-27T23:20:36.478910Z",
     "start_time": "2024-04-27T23:20:36.474458Z"
    }
   },
   "id": "7e1d63584a862d69",
   "execution_count": 7
  },
  {
   "cell_type": "markdown",
   "source": [
    "## LM Programming Constructs"
   ],
   "metadata": {
    "collapsed": false
   },
   "id": "160904a1c29130d2"
  },
  {
   "cell_type": "markdown",
   "source": [
    "## LM Programming Language Constructs\n",
    "\n",
    "\n",
    "- Extending the Marvin AI function interface to a more generalized, higher order setting\n",
    "    - We make the connection between higher order functional output, i.e. a function that outputs another function, with the concept of *prompt specialization*\n",
    "    - We also allow higher order functional inputs, i.e. a function that takes another function as input, and implement it as tool usage\n",
    "- \n",
    "\n",
    "## Limitations, Evaluations and Discussions\n",
    "\n",
    "## Related Work\n",
    "\n",
    "This work is inspired by the many frameworks that have aimed to simplify or otherwise augment the process of interacting with LM from a programming language. In particular, the concept of natural language signatures derive from earlier work on DSP, the precursor to the modern DSPy project[5]. Further, there have been much effort spent on constraining the LM outputs to follow a particular schema or a set of contraints. Instructor[11], Outline[12], and LangChain[13], have all implemented features where the output from the LLM is parsed to a Pydantic model and the constraints associated with the models are checked dynamically. However, unlike the *Natural Language Types* we propose here, the validation step is limited by the conventional validation strategies provided by Pydantic, and lacks a systematic way in which fields and the entire object could be subjected to fuzzy natural language constraints, nor a way to map these constraints to the prompts themselves. Furthermore, information not captured by the model itself is discarded even though it could be helpful in the later processing steps. \n",
    "\n",
    "The notion of a natural language contract system is built upon decades of research on software contracts. Design by Contract is popularized by the programming language Eiffel[14], where the programmer, for a given routine, could annotate the `require` and `ensure` clauses, which is then optionally checked dynamically. The syntax we applied for the Semantic Contracts are more directly inspired by the Racket[15] contract system, in particular its `define/contract` structure on individual functions. The notion of dependency amongst the input arguments and the output result is also inspired by its `->i` contract combinator. However, Racket contracts are higher order by design while our design are only first order. One possible future direction could be to ascertain how and if Semantic Contracts could be applied to a system like Racket. \n",
    "\n",
    "Lastly, as this work mainly centers around introducing novel Programming Language constructs, we observe signficiant parallels between our work and earlier work on programming patterns. A prime example is Object Relational Mappers[9], where database tables and queries are mapped to the more familar concepts of programming object and functions. Such a pattern is very similar to our attempt at mapping LM constructs to programming languages constructs. Further, the Natural Language Types directly draw upon the design philosophy of Object Oriented Design[16], where we argue that the patterns of inheritance, polymorphism and casting continues to be relevant in its LM powered counterparts.  \n",
    "\n",
    "## Future Work \n",
    "\n",
    "## Conclusion \n",
    " "
   ],
   "metadata": {
    "collapsed": false
   },
   "id": "7477f87d90c6ec40"
  },
  {
   "cell_type": "markdown",
   "source": [],
   "metadata": {
    "collapsed": false
   },
   "id": "443760e2ddaa3537"
  },
  {
   "cell_type": "markdown",
   "source": [
    "[1]: “Introducing code llama, a state-of-the-art large language model for coding,” AI at Meta, https://ai.meta.com/blog/code-llama-large-language-model-coding/ (accessed Apr. 27, 2024). \n",
    "[2]: S. Zhou et al., “Docprompting: Generating code by retrieving the docs,” arXiv.org, https://doi.org/10.48550/arXiv.2207.05987 (accessed Apr. 27, 2024). \n",
    "[3]: Two Sig article\n",
    "[4]: LangChain's prompting repo\n",
    "[5]: DSPy\n",
    "[6]: Constrained generation \n",
    "Object Oriented Programming[7], \n",
    "Async Await programming[8] and \n",
    "Object Relational Mappers[9]\n",
    "[10]: Marvin\n",
    "[11]: Instructor\n",
    "[12]: Outline\n",
    "[13]: LangChjain\n",
    "[14]: Eiffel \n",
    "[15]: Racket define/contract \n",
    "[16]: https://dl.acm.org/doi/10.1145/323648.323751"
   ],
   "metadata": {
    "collapsed": false
   },
   "id": "18e9d801c91c43ce"
  }
 ],
 "metadata": {
  "kernelspec": {
   "display_name": "Python 3",
   "language": "python",
   "name": "python3"
  },
  "language_info": {
   "codemirror_mode": {
    "name": "ipython",
    "version": 2
   },
   "file_extension": ".py",
   "mimetype": "text/x-python",
   "name": "python",
   "nbconvert_exporter": "python",
   "pygments_lexer": "ipython2",
   "version": "2.7.6"
  }
 },
 "nbformat": 4,
 "nbformat_minor": 5
}
