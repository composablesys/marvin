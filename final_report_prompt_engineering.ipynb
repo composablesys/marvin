{
 "cells": [
  {
   "cell_type": "markdown",
   "source": [],
   "metadata": {
    "collapsed": false
   },
   "id": "a52d86708ef45426"
  },
  {
   "cell_type": "code",
   "outputs": [],
   "source": [
    "from dotenv import load_dotenv\n",
    "from pydantic import Field\n",
    "\n",
    "load_dotenv()\n",
    "import marvin\n",
    "from marvin.settings import temporary_settings\n",
    "from typing import Annotated, List, Callable\n",
    "from annotated_types import Predicate"
   ],
   "metadata": {
    "collapsed": false,
    "ExecuteTime": {
     "end_time": "2024-04-28T05:35:00.970368Z",
     "start_time": "2024-04-28T05:35:00.601295Z"
    }
   },
   "id": "5ff73436200e7230",
   "execution_count": 1
  },
  {
   "cell_type": "markdown",
   "source": [
    "# Final Report\n",
    "Peter Yong Zhong\n",
    "17-730 Prompt Engineering \n",
    "Do not redistribute \n",
    "Warning: The report may contain explicit language in some examples to illustrate certain topics of importance and serving strictly for demonstration purposes. \n",
    "\n",
    "## Abstract\n",
    "\n",
    "This paper explores the integration of Large Language Models (LLMs) into software engineering, focusing on developing language features suited for a post-LLM environment. We propose new programming constructs, including Higher Order Types and Functions, Contracts, and Semantic Pattern Matching, alongside the innovative concept of 'Natural Language Types' to bridge structured software needs with the fuzziness typical of LLMs. Our approach emphasizes a bottom-up design philosophy, enhancing traditional programming patterns with AI capabilities to address both the abstractness and computational demands of integrating LLMs. This research contributes to the understanding and evolution of programming abstractions in LLM-enhanced environments, aiming to make LLMs more accessible and functional for developers.\n",
    "\n",
    "## Introduction\n",
    "\n",
    "\n",
    "Large Language Models (LLMs) have significantly impacted software engineering, often heralded as a revolutionary force in how software engineers develop, test, and deploy code. The influence of LLMs primarily extends to two areas: firstly, the development and generation of executable code[1][2], and secondly, integrating LLM calls into other software systems' logic. In the latter case, developers either manually manipulate strings based on prompt templates and directly use foundation model APIs, or they utilize popular frameworks to meet their LLM requirements. The diversity in LLM programming abstractions has spurred active research. For example, the recently proposed Language Model System Interface Model (LMSI)[3] stratifies these abstractions into seven layers of increasing abstractness. Researchers have identified five families of LLM abstractions emerging within popular frameworks.\n",
    "\n",
    "However, many frameworks emphasize the machine learning aspects of LLMs, focusing on novel prompting techniques[4], pipeline designs[5], and efficient inference[6]. We argue that in scenarios where LLMs are *progressively* integrated into existing systems, a bottom-up approach should be adopted. This approach should prioritize programming concerns and patterns, using LLMs to enhance these patterns with powerful generalization and computational analysis capabilities.\n",
    "\n",
    "Developers typically interact with LLMs at the programming language level. Similar to paradigms like Object-Oriented Programming[7], Async-Await programming[8], and Object-Relational Mappers[9], language features have enabled developers to express business logic more abstractly. The compiler then 'desugars' these constructs into a lower-level implementation that can be complex. In this project, we explore designing such language features in a post-LLM environment to understand the challenges and opportunities they present.\n",
    "\n",
    "We have chosen to augment Marvin[10], a popular LLM framework that aligns with our philosophy of empowering developers focused on using AI rather than building it. Marvin introduces several coding constructs for data transformation, entity extraction, classification, and AI functions, which serve as a foundation for our designs.\n",
    "\n",
    "Our contributions are threefold. First, we propose and implement a set of language features enhanced by LLMs, providing an open-source implementation under the Apache license. These features include Higher Order Types and Functions, Contracts, and Semantic Pattern Matching. Second, we introduce a novel concept of 'Natural Language Types', blending structured software needs with the fuzziness typical of LLMs. Lastly, we outline a novel type-driven and unit-tests-driven code generation methodology that, while not yet implemented, lays the groundwork for future developments.\n",
    " "
   ],
   "metadata": {
    "collapsed": false
   },
   "id": "24fe46583cac36dd"
  },
  {
   "cell_type": "markdown",
   "source": [
    "## Natural Language Types\n",
    "\n",
    "In programming, a type serves two crucial interrelated functions. First, it defines the schema of a data model by specifying the required information an object of that type should hold and setting constraints on the nature or \"type\" of each piece of data. These constraints are checked either statically or dynamically, ensuring that when a program interacts with an object of a given type, it can appropriately access and manipulate its fields. Second, in object-oriented environments, the conceptualization of types mirrors the natural language reasoning about physical objects. This intuitive alignment between programming types and natural language facilitates understanding, particularly beneficial when working with LLMs trained on human language data.\n",
    "\n",
    "The concept of Natural Language Types is straightforward yet innovative, primarily consisting of two elements. Traditional data types like int and string often fall short in describing complex, fuzzy constraints prevalent in natural language environments. Moreover, traditional typing systems struggle to address the interdependencies between different fields. Thus, the first component of Natural Language Types involves defining constraints at both the field level and between fields using natural language. This feature is vital as it underpins the Natural Language contract system discussed later in this work.\n",
    " "
   ],
   "metadata": {
    "collapsed": false
   },
   "id": "7c47992a1cc8614e"
  },
  {
   "cell_type": "markdown",
   "source": [
    "We can explore this idea through an example below. Here, let's start off with a simple, traditional type - Pilot. "
   ],
   "metadata": {
    "collapsed": false
   },
   "id": "94944b830930725a"
  },
  {
   "cell_type": "code",
   "outputs": [
    {
     "data": {
      "text/plain": "Pilot(other_information=None, id=1, name='Noah Tabuex', plane_model='Cessna 172', certificate='PPL', airport='KPIT')"
     },
     "execution_count": 3,
     "metadata": {},
     "output_type": "execute_result"
    }
   ],
   "source": [
    "class Pilot(marvin.NaturalLangType):\n",
    "    id: int\n",
    "    name: str\n",
    "    plane_model: str\n",
    "    certificate: str\n",
    "    airport: str\n",
    "\n",
    "Pilot(id = 1, name=\"Noah Tabuex\", plane_model=\"Cessna 172\", certificate=\"PPL\", airport = \"KPIT\")"
   ],
   "metadata": {
    "collapsed": false,
    "ExecuteTime": {
     "end_time": "2024-04-27T21:39:46.875275Z",
     "start_time": "2024-04-27T21:39:46.868480Z"
    }
   },
   "id": "2d60296dbd80fe5a",
   "execution_count": 3
  },
  {
   "cell_type": "markdown",
   "source": [
    "With Natural Language Types, we should be able to use natural language to specify certain constraints. Here in this case, we could rely on the internal knowledge of the LM to validate the result. Here we are using `temporary_setting` to enable the contract capabilities. We chose this design since we argue that contracts should mainly be a develop time artifact that should be disabled in production to minimize performance degradations."
   ],
   "metadata": {
    "collapsed": false
   },
   "id": "e18c33466ea3e462"
  },
  {
   "cell_type": "code",
   "outputs": [],
   "source": [
    "class Pilot(marvin.NaturalLangType):\n",
    "    id: int\n",
    "    name: str\n",
    "    plane_model: Annotated[str, Predicate(marvin.val_contract(\"Plane must contain more than 1 engine\"))]\n",
    "    certificate: str\n",
    "    airport: str"
   ],
   "metadata": {
    "collapsed": false,
    "ExecuteTime": {
     "end_time": "2024-04-27T22:16:10.811178Z",
     "start_time": "2024-04-27T22:16:10.804482Z"
    }
   },
   "id": "47e989aeb0678326",
   "execution_count": 2
  },
  {
   "cell_type": "code",
   "outputs": [
    {
     "ename": "ValidationError",
     "evalue": "1 validation error for Pilot\nplane_model\n  Predicate val_contract.<locals>.wrapper failed [type=predicate_failed, input_value='Cessna 172', input_type=str]",
     "output_type": "error",
     "traceback": [
      "\u001B[0;31m---------------------------------------------------------------------------\u001B[0m",
      "\u001B[0;31mValidationError\u001B[0m                           Traceback (most recent call last)",
      "Cell \u001B[0;32mIn[7], line 9\u001B[0m\n\u001B[1;32m      6\u001B[0m     airport: \u001B[38;5;28mstr\u001B[39m\n\u001B[1;32m      8\u001B[0m \u001B[38;5;28;01mwith\u001B[39;00m temporary_settings(ai__text__disable_contract\u001B[38;5;241m=\u001B[39m\u001B[38;5;28;01mFalse\u001B[39;00m):\n\u001B[0;32m----> 9\u001B[0m     Pilot(\u001B[38;5;28mid\u001B[39m \u001B[38;5;241m=\u001B[39m \u001B[38;5;241m1\u001B[39m, name\u001B[38;5;241m=\u001B[39m\u001B[38;5;124m\"\u001B[39m\u001B[38;5;124mNoah Tabuex\u001B[39m\u001B[38;5;124m\"\u001B[39m, plane_model\u001B[38;5;241m=\u001B[39m\u001B[38;5;124m\"\u001B[39m\u001B[38;5;124mCessna 172\u001B[39m\u001B[38;5;124m\"\u001B[39m, certificate\u001B[38;5;241m=\u001B[39m\u001B[38;5;124m\"\u001B[39m\u001B[38;5;124mPPL\u001B[39m\u001B[38;5;124m\"\u001B[39m, airport \u001B[38;5;241m=\u001B[39m \u001B[38;5;124m\"\u001B[39m\u001B[38;5;124mKPIT\u001B[39m\u001B[38;5;124m\"\u001B[39m)\n",
      "File \u001B[0;32m~/anaconda3/envs/marvin-fork/lib/python3.11/site-packages/pydantic/main.py:171\u001B[0m, in \u001B[0;36mBaseModel.__init__\u001B[0;34m(self, **data)\u001B[0m\n\u001B[1;32m    169\u001B[0m \u001B[38;5;66;03m# `__tracebackhide__` tells pytest and some other tools to omit this function from tracebacks\u001B[39;00m\n\u001B[1;32m    170\u001B[0m __tracebackhide__ \u001B[38;5;241m=\u001B[39m \u001B[38;5;28;01mTrue\u001B[39;00m\n\u001B[0;32m--> 171\u001B[0m \u001B[38;5;28mself\u001B[39m\u001B[38;5;241m.\u001B[39m__pydantic_validator__\u001B[38;5;241m.\u001B[39mvalidate_python(data, self_instance\u001B[38;5;241m=\u001B[39m\u001B[38;5;28mself\u001B[39m)\n",
      "\u001B[0;31mValidationError\u001B[0m: 1 validation error for Pilot\nplane_model\n  Predicate val_contract.<locals>.wrapper failed [type=predicate_failed, input_value='Cessna 172', input_type=str]"
     ]
    }
   ],
   "source": [
    "with temporary_settings(ai__text__disable_contract=False):\n",
    "    Pilot(id = 1, name=\"Noah Tabuex\", plane_model=\"Cessna 172\", certificate=\"PPL\", airport = \"KPIT\")"
   ],
   "metadata": {
    "collapsed": false,
    "ExecuteTime": {
     "end_time": "2024-04-27T21:44:57.919134Z",
     "start_time": "2024-04-27T21:44:57.299087Z"
    }
   },
   "id": "417cfcdb0cd31261",
   "execution_count": 7
  },
  {
   "cell_type": "code",
   "outputs": [
    {
     "data": {
      "text/plain": "Pilot(other_information=None, id=1, name='Noah Tabuex', plane_model='Boeing 747', certificate='PPL', airport='KPIT')"
     },
     "execution_count": 3,
     "metadata": {},
     "output_type": "execute_result"
    }
   ],
   "source": [
    "with temporary_settings(ai__text__disable_contract=False):\n",
    "    p = Pilot(id = 1, name=\"Noah Tabuex\", plane_model=\"Boeing 747\", certificate=\"PPL\", airport = \"KPIT\")\n",
    "p"
   ],
   "metadata": {
    "collapsed": false,
    "ExecuteTime": {
     "end_time": "2024-04-27T22:16:13.401465Z",
     "start_time": "2024-04-27T22:16:12.352889Z"
    }
   },
   "id": "7925bb179a4b48ef",
   "execution_count": 3
  },
  {
   "cell_type": "markdown",
   "source": [
    "The natural language constraints, as mentioned above, could also be applied in a more global fashion. In this example, we are also demonstrating natural language inhertance. Usually in programming, inheritence refines a type by introducing additional fields and restricting behaviors. However, the refinement could in fact be other restrictions or constraints that we place. \n"
   ],
   "metadata": {
    "collapsed": false
   },
   "id": "4feeb170bcea26e6"
  },
  {
   "cell_type": "code",
   "outputs": [],
   "source": [
    "class Pilot(marvin.NaturalLangType):\n",
    "    id: int\n",
    "    name: str\n",
    "    plane_model: str\n",
    "    certificate: str\n",
    "    airport: str"
   ],
   "metadata": {
    "collapsed": false,
    "ExecuteTime": {
     "end_time": "2024-04-27T23:19:28.917270Z",
     "start_time": "2024-04-27T23:19:28.908150Z"
    }
   },
   "id": "fcbdfac05f484cfd",
   "execution_count": 2
  },
  {
   "cell_type": "code",
   "outputs": [],
   "source": [
    "from typing import List\n",
    "\n",
    "\n",
    "class AdvancedPilot(Pilot):\n",
    "    @classmethod\n",
    "    def natural_lang_constraints(cls) -> List[str]:\n",
    "        existing = super().natural_lang_constraints()\n",
    "        new_constraints = [\n",
    "            \"The certificate should allow pilot to fly for compensation and is suitable for the plane_model\"\n",
    "        ]\n",
    "        return existing + new_constraints"
   ],
   "metadata": {
    "collapsed": false,
    "ExecuteTime": {
     "end_time": "2024-04-27T22:33:49.660144Z",
     "start_time": "2024-04-27T22:33:49.656771Z"
    }
   },
   "id": "2a073663deeeef18",
   "execution_count": 4
  },
  {
   "cell_type": "code",
   "outputs": [
    {
     "ename": "ValidationError",
     "evalue": "1 validation error for AdvancedPilot\n  Value error, Natural language constraints not met:The certificate should allow pilot to fly for compensation and is suitable for the plane_model\n [type=value_error, input_value={'id': 1, 'name': 'Noah T...PPL', 'airport': 'KPIT'}, input_type=dict]\n    For further information visit https://errors.pydantic.dev/2.6/v/value_error",
     "output_type": "error",
     "traceback": [
      "\u001B[0;31m---------------------------------------------------------------------------\u001B[0m",
      "\u001B[0;31mValidationError\u001B[0m                           Traceback (most recent call last)",
      "Cell \u001B[0;32mIn[4], line 2\u001B[0m\n\u001B[1;32m      1\u001B[0m \u001B[38;5;28;01mwith\u001B[39;00m temporary_settings(ai__text__disable_contract\u001B[38;5;241m=\u001B[39m\u001B[38;5;28;01mFalse\u001B[39;00m):\n\u001B[0;32m----> 2\u001B[0m     ap \u001B[38;5;241m=\u001B[39m AdvancedPilot(\u001B[38;5;28mid\u001B[39m \u001B[38;5;241m=\u001B[39m \u001B[38;5;241m1\u001B[39m, name\u001B[38;5;241m=\u001B[39m\u001B[38;5;124m\"\u001B[39m\u001B[38;5;124mNoah Tabuex\u001B[39m\u001B[38;5;124m\"\u001B[39m, plane_model\u001B[38;5;241m=\u001B[39m\u001B[38;5;124m\"\u001B[39m\u001B[38;5;124mBoeing 747\u001B[39m\u001B[38;5;124m\"\u001B[39m, certificate\u001B[38;5;241m=\u001B[39m\u001B[38;5;124m\"\u001B[39m\u001B[38;5;124mPPL\u001B[39m\u001B[38;5;124m\"\u001B[39m, airport \u001B[38;5;241m=\u001B[39m \u001B[38;5;124m\"\u001B[39m\u001B[38;5;124mKPIT\u001B[39m\u001B[38;5;124m\"\u001B[39m)\n\u001B[1;32m      3\u001B[0m     \u001B[38;5;66;03m# A Private Pilot's license is probably not sufficient for a Boeing 747\u001B[39;00m\n\u001B[1;32m      4\u001B[0m ap\n",
      "File \u001B[0;32m~/anaconda3/envs/marvin-fork/lib/python3.11/site-packages/pydantic/main.py:171\u001B[0m, in \u001B[0;36mBaseModel.__init__\u001B[0;34m(self, **data)\u001B[0m\n\u001B[1;32m    169\u001B[0m \u001B[38;5;66;03m# `__tracebackhide__` tells pytest and some other tools to omit this function from tracebacks\u001B[39;00m\n\u001B[1;32m    170\u001B[0m __tracebackhide__ \u001B[38;5;241m=\u001B[39m \u001B[38;5;28;01mTrue\u001B[39;00m\n\u001B[0;32m--> 171\u001B[0m \u001B[38;5;28mself\u001B[39m\u001B[38;5;241m.\u001B[39m__pydantic_validator__\u001B[38;5;241m.\u001B[39mvalidate_python(data, self_instance\u001B[38;5;241m=\u001B[39m\u001B[38;5;28mself\u001B[39m)\n",
      "\u001B[0;31mValidationError\u001B[0m: 1 validation error for AdvancedPilot\n  Value error, Natural language constraints not met:The certificate should allow pilot to fly for compensation and is suitable for the plane_model\n [type=value_error, input_value={'id': 1, 'name': 'Noah T...PPL', 'airport': 'KPIT'}, input_type=dict]\n    For further information visit https://errors.pydantic.dev/2.6/v/value_error"
     ]
    }
   ],
   "source": [
    "with temporary_settings(ai__text__disable_contract=False):\n",
    "    ap = AdvancedPilot(id = 1, name=\"Noah Tabuex\", plane_model=\"Boeing 747\", certificate=\"PPL\", airport = \"KPIT\")\n",
    "    # A Private Pilot's license is probably not sufficient for a Boeing 747\n",
    "ap"
   ],
   "metadata": {
    "collapsed": false,
    "ExecuteTime": {
     "end_time": "2024-04-27T22:18:56.602815Z",
     "start_time": "2024-04-27T22:18:55.737976Z"
    }
   },
   "id": "5a4b711eca4655a6",
   "execution_count": 4
  },
  {
   "cell_type": "code",
   "outputs": [
    {
     "data": {
      "text/plain": "AdvancedPilot(other_information=None, id=1, name='Noah Tabuex', plane_model='Airbus A380', certificate='ATP with Type Rating', airport='KPIT')"
     },
     "execution_count": 6,
     "metadata": {},
     "output_type": "execute_result"
    }
   ],
   "source": [
    "with temporary_settings(ai__text__disable_contract=False):\n",
    "    ap = AdvancedPilot(id = 1, name=\"Noah Tabuex\", plane_model=\"Airbus A380\", certificate=\"ATP with Type Rating\", airport = \"KPIT\")\n",
    "    # ATP refer to airline transport pilot which can carry passengers \n",
    "ap"
   ],
   "metadata": {
    "collapsed": false,
    "ExecuteTime": {
     "end_time": "2024-04-27T22:34:52.639258Z",
     "start_time": "2024-04-27T22:34:33.630456Z"
    }
   },
   "id": "d1af2afb2527ceba",
   "execution_count": 6
  },
  {
   "cell_type": "markdown",
   "source": [
    "Astute readers might notice a field `other_information` that is printed, but is not otherwise defined. This powers the second aspect of Natural Language Types. When an LM is generating content, excessively constraining its output, for instance through having restricted and often limited fields might hamper future performance. Instead, the LMs should be given an opportunity to store other relevant information about an object in **natural language** which could be used in the future. \n",
    "\n",
    "Let's continue with the Piloting example, and this time we use one of the constructs already provided by Marvin to illustrate this:\n"
   ],
   "metadata": {
    "collapsed": false
   },
   "id": "ed79433d6fba9dfa"
  },
  {
   "cell_type": "code",
   "outputs": [],
   "source": [
    "pilot = marvin.extract(\"Noah Singer, employee number 321, is a Boeing 747 Pilot holding an Airline Transport Pilot with 1000 hours of operations. He mainly flies from KPIT.\", Pilot)[0]"
   ],
   "metadata": {
    "collapsed": false,
    "ExecuteTime": {
     "end_time": "2024-04-27T23:04:37.479202Z",
     "start_time": "2024-04-27T23:04:34.380499Z"
    }
   },
   "id": "10f5abaf3a01353b",
   "execution_count": 4
  },
  {
   "cell_type": "code",
   "outputs": [
    {
     "data": {
      "text/plain": "Pilot(other_information='1000 hours of operations', id=321, name='Noah Singer', plane_model='Boeing 747', certificate='Airline Transport Pilot', airport='KPIT')"
     },
     "execution_count": 5,
     "metadata": {},
     "output_type": "execute_result"
    }
   ],
   "source": [
    "pilot"
   ],
   "metadata": {
    "collapsed": false,
    "ExecuteTime": {
     "end_time": "2024-04-27T23:04:39.158451Z",
     "start_time": "2024-04-27T23:04:39.156149Z"
    }
   },
   "id": "756e9e1a50eb64b3",
   "execution_count": 5
  },
  {
   "cell_type": "markdown",
   "source": [
    "Here, the LM has dynamically captured the 1000 hours of operations as possible information to be used in the future. Let's imagine a scenario where we want to use this object in some other natural language computation, here say through Marvin's AI function.  "
   ],
   "metadata": {
    "collapsed": false
   },
   "id": "189ad4d822c6cbd"
  },
  {
   "cell_type": "code",
   "outputs": [
    {
     "data": {
      "text/plain": "True"
     },
     "execution_count": 7,
     "metadata": {},
     "output_type": "execute_result"
    }
   ],
   "source": [
    "@marvin.ai_fn\n",
    "def is_experience_pilot(pilot: Pilot) -> bool:\n",
    "    \"Returns whether the pilot has significant experience or straight out of pilot school\"\n",
    "    \n",
    "is_experience_pilot(pilot)"
   ],
   "metadata": {
    "collapsed": false,
    "ExecuteTime": {
     "end_time": "2024-04-27T23:04:58.624391Z",
     "start_time": "2024-04-27T23:04:57.625657Z"
    }
   },
   "id": "86b32dc95754ba7f",
   "execution_count": 7
  },
  {
   "cell_type": "markdown",
   "source": [
    "The key takeaway is that the loss of information when transitioning between different perspectives (natural language vs programming) need not to be constrained by the relative loss of information dettermined by the complexity of the type but can retain information in the natural language environment. "
   ],
   "metadata": {
    "collapsed": false
   },
   "id": "13747a8b31a9c50f"
  },
  {
   "cell_type": "markdown",
   "source": [
    "For programmers familiar with C++, and especially its dynamic casting structure with its inheritence structure, natural language types allow us to express this concept as well. For instance, we might have an ExperiencedPilot class:"
   ],
   "metadata": {
    "collapsed": false
   },
   "id": "568c62016d3c230b"
  },
  {
   "cell_type": "code",
   "outputs": [
    {
     "name": "stdout",
     "output_type": "stream",
     "text": [
      "\n",
      "ExperiencedPilot(other_information=None, id=1, name='Noah Tabuex', plane_model='Airbus A380', certificate='ATP with Type Rating', airport='KPIT', hours_flown=1000)\n",
      "None\n"
     ]
    }
   ],
   "source": [
    "from annotated_types import Gt\n",
    "\n",
    "\n",
    "class ExperiencedPilot(Pilot):\n",
    "    \n",
    "    hours_flown : Annotated[int, Gt(500)] = Field(description=\"Hours flown by the pilot\")\n",
    "    @classmethod\n",
    "    def natural_lang_constraints(cls) -> List[str]:\n",
    "        existing = super().natural_lang_constraints()\n",
    "        new_constraints = [\n",
    "            \"The Pilot must be experienced and has not had disciplinary infractions\"\n",
    "        ]\n",
    "        return existing + new_constraints\n",
    "\n",
    "print(marvin.try_cast(pilot,ExperiencedPilot))\n",
    "pilot_unexperienced = marvin.extract(\"Noah Singer, employee number 344, is a Boeing 747 Pilot holding an Airline Transport Pilot with 1000 hours of operations. He mainly flies from KPIT. Noah was recently convicted of a DUI and is placed under suspension. \", Pilot)[0]\n",
    "print(marvin.try_cast(pilot_unexperienced,ExperiencedPilot))"
   ],
   "metadata": {
    "collapsed": false,
    "ExecuteTime": {
     "end_time": "2024-04-27T23:20:36.478910Z",
     "start_time": "2024-04-27T23:20:36.474458Z"
    }
   },
   "id": "7e1d63584a862d69",
   "execution_count": 7
  },
  {
   "cell_type": "markdown",
   "source": [
    "## LM Programming Constructs\n",
    "\n",
    "### Higher Order Functions\n",
    "\n",
    "An LM can be thought of as an inference engine between some natural language input, some instructions to generate a natural language output. In this sense, its no different from performing computation in the natural language space. Such a correspondence is the basis for many schema-driven features in DSPy and Marvin, where first order function signatures, in natural language or translated from python, can be used as a template for the LM to perform fuzzy computations. The AI functions for Marvin demonstrates a more concrete example: "
   ],
   "metadata": {
    "collapsed": false
   },
   "id": "160904a1c29130d2"
  },
  {
   "cell_type": "code",
   "outputs": [
    {
     "data": {
      "text/plain": "['Preheat your oven to a suitable temperature for baking chicken, such as 375 degrees Fahrenheit.',\n 'Season the chicken with salt, pepper, and a bit of the zest from your lemon for a citrusy flavor.',\n 'Place the seasoned chicken in a baking dish.',\n 'Slice the lemon and place the slices on top of the chicken to infuse it with lemony aroma while it cooks.',\n 'Bake the chicken in the preheated oven until it is fully cooked and the juices run clear, about 35-45 minutes, depending on the size of the chicken pieces.',\n \"While the chicken is baking, prepare the couscous according to the package instructions, typically by boiling water, adding the couscous, and letting it sit covered until it's fluffy and all the water is absorbed.\",\n 'Once the couscous is ready, stir in some chopped olives for an added burst of flavor and mix well.',\n 'Serve the baked lemon chicken hot, paired with the olive-infused couscous on the side.']"
     },
     "execution_count": 2,
     "metadata": {},
     "output_type": "execute_result"
    }
   ],
   "source": [
    "@marvin.fn\n",
    "def generate_recipe(ingredients: list[str]) -> list[str]:\n",
    "    \"\"\"From a list of `ingredients`, generates a\n",
    "    complete instruction set to cook a recipe.\n",
    "    \"\"\"\n",
    "\n",
    "generate_recipe([\"lemon\", \"chicken\", \"olives\", \"coucous\"])"
   ],
   "metadata": {
    "collapsed": false,
    "ExecuteTime": {
     "end_time": "2024-04-28T04:44:14.594841Z",
     "start_time": "2024-04-28T04:44:08.743312Z"
    }
   },
   "id": "4f6f8252f2be6c99",
   "execution_count": 2
  },
  {
   "cell_type": "markdown",
   "source": [
    "The connections with functions are obviously very powerful from a language design perspective. However, none of the existing literatures and tools we evaluated has made the connections between LMs and higher order functions, which, in a functional language or a language where functional programming patterns are prevalent like Python, could be used to express more powerful business logics.\n",
    "\n",
    "#### Higher Order Inputs\n",
    "\n",
    "A function is considered to have a higher-order input if one of its arguments is another function. This programming pattern is prevalent in functional programming and extends beyond it. Traditionally, having a function as an input allows the main function's behavior to be parameterized based on the input function. For example, when integrating external APIs, different endpoints may necessitate different pre-processing or post-processing of data. Passing functions tailored to each API endpoint can abstract and streamline the integration process.\n",
    "\n",
    "This concept should therefore be familiar to LM users, as it closely relates to the idea of function calling and tool usage, such as in ReAct[17]. An inquiry to the LM that requires it to use a tool to gather external information or interact with external environments can be viewed as having function arguments that represent the tool's signatures. We have implemented this concept through an enhancement of the marvin.fn interface.\n",
    "\n",
    "The following example may more concretely demonstrate this feature: \n",
    "\n",
    "Let's say we have some external API that returns the weather condition at cities"
   ],
   "metadata": {
    "collapsed": false
   },
   "id": "96ee414977c96673"
  },
  {
   "cell_type": "code",
   "outputs": [],
   "source": [
    "\n",
    "def weather_at_city(city: str) -> str:\n",
    "    if city == \"San Francisco\":\n",
    "        return \"Sunny and bright\"\n",
    "    if city == \"Los Angeles\":\n",
    "        return \"Cold and Cloudy\"\n",
    "    if city == \"Washington D.C.\":\n",
    "        return \"Cloudy but comfortable\""
   ],
   "metadata": {
    "collapsed": false,
    "ExecuteTime": {
     "end_time": "2024-04-28T05:15:54.888379Z",
     "start_time": "2024-04-28T05:15:54.886180Z"
    }
   },
   "id": "eb230187c606cd51",
   "execution_count": 10
  },
  {
   "cell_type": "markdown",
   "source": [
    "A developer building a travel planning application could be interested in how the attractions might be recommended to the users based on the weather conditions. In this case, they may wish to write a function where given an attraction, and access to this API, the model would give an rating out of 10. "
   ],
   "metadata": {
    "collapsed": false
   },
   "id": "1948c7aab7f5bf1b"
  },
  {
   "cell_type": "code",
   "outputs": [],
   "source": [
    "from typing import Callable\n",
    "\n",
    "@marvin.fn(max_tool_usage_times=1)\n",
    "def pleasantness(attraction: str, weather_func: Callable[[str], str]) -> str:\n",
    "    \"\"\"\n",
    "    Args:\n",
    "        attraction: the name of the attraction in some place\n",
    "        weather_func: a function that get the weather at a particular **city** that the attraction is located.\n",
    "    Returns:\n",
    "        How pleasant the attraction will likely be given the weather between 0 and 10\n",
    "    \"\"\"\n",
    "    pass\n"
   ],
   "metadata": {
    "collapsed": false,
    "ExecuteTime": {
     "end_time": "2024-04-28T05:05:33.296966Z",
     "start_time": "2024-04-28T05:05:33.294997Z"
    }
   },
   "id": "8eae76408b9acc4f",
   "execution_count": 3
  },
  {
   "cell_type": "code",
   "outputs": [
    {
     "name": "stdout",
     "output_type": "stream",
     "text": [
      "8\n",
      "3\n"
     ]
    }
   ],
   "source": [
    "# # the weather in SF is really good rn, LA not so much\n",
    "print(pleasantness(\"The Golden Gate Bridge\", weather_at_city))\n",
    "print(pleasantness(\"Hollywood Sign\", weather_at_city)) "
   ],
   "metadata": {
    "collapsed": false,
    "ExecuteTime": {
     "end_time": "2024-04-28T05:14:07.145875Z",
     "start_time": "2024-04-28T05:14:03.690826Z"
    }
   },
   "id": "c9b9e34cb1c0fccd",
   "execution_count": 8
  },
  {
   "cell_type": "markdown",
   "source": [
    "A possible way that a developer might integrate such a function is through sorting a list of attractions. "
   ],
   "metadata": {
    "collapsed": false
   },
   "id": "bf16e6ba08762d76"
  },
  {
   "cell_type": "code",
   "outputs": [
    {
     "name": "stdout",
     "output_type": "stream",
     "text": [
      "['The Golden Gate Bridge', 'Lincoln Memorial', 'Hollywood Sign']\n"
     ]
    }
   ],
   "source": [
    "print(sorted([\"The Golden Gate Bridge\",\"Hollywood Sign\", \"Lincoln Memorial\"], key=pleasantness, reverse=True))"
   ],
   "metadata": {
    "collapsed": false,
    "ExecuteTime": {
     "end_time": "2024-04-28T05:18:46.423912Z",
     "start_time": "2024-04-28T05:18:46.422334Z"
    }
   },
   "id": "13ace6e1f684efb3",
   "execution_count": 12
  },
  {
   "cell_type": "markdown",
   "source": [
    "#### Higher Order Function Outputs\n",
    "\n",
    "Similar to functional inputs, functions themselves can output another function. In a more trivial case, this may take shape in a form of currying, but in the general case, it is often a process of input specialization, where the outputted function is specialized by some input. \n",
    "\n",
    "It is best to illustrate this pattern through an example:\n"
   ],
   "metadata": {
    "collapsed": false
   },
   "id": "7f59f423f079280c"
  },
  {
   "cell_type": "code",
   "outputs": [],
   "source": [
    "@marvin.fn\n",
    "def rating_for_customer(customer_profile: str) -> Callable[[str], int]:\n",
    "    \"\"\"\n",
    "    Args:\n",
    "        customer_profile: the preferences of the customer\n",
    "    Returns:\n",
    "        a function that specializes on the customer_profile to give a rating of a product between 1 to 10.\n",
    "    \"\"\"\n",
    "    pass\n",
    "\n"
   ],
   "metadata": {
    "collapsed": false,
    "ExecuteTime": {
     "end_time": "2024-04-28T05:35:07.429247Z",
     "start_time": "2024-04-28T05:35:07.427501Z"
    }
   },
   "id": "cf1fa3ec85fc9bcf",
   "execution_count": 2
  },
  {
   "cell_type": "markdown",
   "source": [
    "In this case, we are producing another callable function that is powered by LM. However, rather than fixing a prompt, the prompt is dynamically generated based on the customer profile. This could bring forth a few potential benefits. Based on the purpose of the generated function, it's possible that certain aspects of the customer profile would become irrelevant. Therefore, the generated function, along with its prompt, could be shorter if this function were to be applied in a broader setting. Secondly, the induced function is now simply a generic ratings function and can be applied wherever a ratings function would be desired, without worrying about the customer profile. In fact, a possible use case may also include some sort of ensemble recommender using this as one of many rating input functions."
   ],
   "metadata": {
    "collapsed": false
   },
   "id": "c7fa7f3ae33359a3"
  },
  {
   "cell_type": "code",
   "outputs": [
    {
     "data": {
      "text/plain": "'8'"
     },
     "execution_count": 3,
     "metadata": {},
     "output_type": "execute_result"
    }
   ],
   "source": [
    "rating_func = rating_for_customer(\n",
    "    \"asian lady who cares about quality but cost is of greater concern\"\n",
    ")\n",
    "rt = rating_func(\"A wonderful blender that is only $19, on sale from $100\")  \n",
    "rt"
   ],
   "metadata": {
    "collapsed": false,
    "ExecuteTime": {
     "end_time": "2024-04-28T05:35:26.500775Z",
     "start_time": "2024-04-28T05:35:10.342225Z"
    }
   },
   "id": "9831f1658d36d7dd",
   "execution_count": 3
  },
  {
   "cell_type": "markdown",
   "source": [
    "### Natural Language Contracts\n",
    "\n",
    "Design by Contract (DbC)[14] is a programming methodology that defines precise interface specifications through preconditions, postconditions, and invariants, which clarify the expected behavior of software components. DbC offers significant benefits during development by reducing bugs and enhancing code reliability, as it enforces a formal agreement on what software components must accomplish before and after execution. However, implementing DbC presents challenges, particularly because business logic is often articulated in natural language, which can be ambiguous and difficult to translate into programmatically enforceable contracts. This discrepancy can lead to complexities in defining exhaustive and accurate contracts that fully encapsulate the intended behavior of the software.\n",
    "\n",
    "However, with the advent of LMs, the issues introduced by the gap between natural language business logic, and programmatically enforceable contract can be mitigated significantly, since the LMs essentially provide a way of making *documentation* executable. \n",
    "\n",
    "The ideal use case for these flavour of contracts is not to apply them in a production environment, but rather at development and integration/testing time. The contracts make sure that the flow of values in and out of different components of the program adheres to some natural language descriptions. Whilst such checks in production would likely be intractable, it could serve as important tools to discover discrepancies between design specification and actual implementation during testing (such behavior is more commonly known in developer lingo as \"bugs\") "
   ],
   "metadata": {
    "collapsed": false
   },
   "id": "62581437576378aa"
  },
  {
   "cell_type": "markdown",
   "source": [
    "The example below demonstrates how we have augmented marvin to introduce a @func_contract decorator that would complement pydantic to provide first order contracts enforceable by natural language constraints.\n"
   ],
   "metadata": {
    "collapsed": false
   },
   "id": "fcd0805f19f2943c"
  },
  {
   "cell_type": "code",
   "outputs": [],
   "source": [
    "@marvin.func_contract\n",
    "def reply_comment(\n",
    "    processed_comment: Annotated[\n",
    "        str,\n",
    "        Predicate(\n",
    "            marvin.val_contract(\"must not contain words inappropriate for children\")\n",
    "        ),\n",
    "    ],\n",
    ") -> None:\n",
    "    print(\"The comment passed validation and is sent to the server\")\n"
   ],
   "metadata": {
    "collapsed": false,
    "ExecuteTime": {
     "end_time": "2024-04-28T05:57:20.145685Z",
     "start_time": "2024-04-28T05:57:20.143502Z"
    }
   },
   "id": "6bb03ee3a16ae56d",
   "execution_count": 4
  },
  {
   "cell_type": "code",
   "outputs": [
    {
     "name": "stdout",
     "output_type": "stream",
     "text": [
      "Try First Reply with Illegal Arguments\n",
      "The first call is flagged as a contract violation\n",
      "1 validation error for reply_comment\n",
      "0\n",
      "  Predicate val_contract.<locals>.wrapper failed [type=predicate_failed, input_value='fuck this shit', input_type=str]\n",
      "The comment passed validation and is sent to the server\n"
     ]
    }
   ],
   "source": [
    "with temporary_settings(ai__text__disable_contract=False):\n",
    "    print(\"Try First Reply with Illegal Arguments\")\n",
    "    try:\n",
    "        reply_comment(\"fuck this shit\")\n",
    "    except Exception as e:\n",
    "        print(\"The first call is flagged as a contract violation\")\n",
    "        print(e)\n",
    "    try:\n",
    "        reply_comment(\"The sky is beautiful today\")\n",
    "    except Exception as e:\n",
    "        print(\"The second call is flagged as a contract violation\")\n",
    "        print(e)"
   ],
   "metadata": {
    "collapsed": false,
    "ExecuteTime": {
     "end_time": "2024-04-28T05:57:23.978693Z",
     "start_time": "2024-04-28T05:57:21.087462Z"
    }
   },
   "id": "9160d6a018b11eb4",
   "execution_count": 5
  },
  {
   "cell_type": "markdown",
   "source": [
    "Specifying interdependence of input variables should also be allowed:"
   ],
   "metadata": {
    "collapsed": false
   },
   "id": "4abadc9b2db1b1b0"
  },
  {
   "cell_type": "code",
   "outputs": [],
   "source": [
    "@marvin.func_contract(\n",
    "    pre=lambda comment, reply: marvin.val_contract(\n",
    "        \"the comment and reply must be somewhat related\"\n",
    "    )(comment=comment, reply=reply)\n",
    ")\n",
    "def process_comment(comment: str, reply: str) -> str:\n",
    "    return f\"comment: {comment}\\nreply: {reply}\"\n"
   ],
   "metadata": {
    "collapsed": false,
    "ExecuteTime": {
     "end_time": "2024-04-28T05:59:00.345781Z",
     "start_time": "2024-04-28T05:59:00.343445Z"
    }
   },
   "id": "36398ecc08f133c9",
   "execution_count": 7
  },
  {
   "cell_type": "code",
   "outputs": [
    {
     "name": "stdout",
     "output_type": "stream",
     "text": [
      "Pre condition not met\n",
      "comment: This apple is great!\n",
      "reply: I agree, but the apple is very sweet and so could be unhealthy\n"
     ]
    }
   ],
   "source": [
    "with temporary_settings(ai__text__disable_contract=False):\n",
    "    try:\n",
    "        process_comment(\"This apple is great!\", \"IKEA stock is down a lot\")\n",
    "    except Exception as e:\n",
    "        print(e)\n",
    "    print(process_comment(\"This apple is great!\", \"I agree, but the apple is very sweet and so could be unhealthy\"))"
   ],
   "metadata": {
    "collapsed": false,
    "ExecuteTime": {
     "end_time": "2024-04-28T05:59:02.701824Z",
     "start_time": "2024-04-28T05:59:01.275473Z"
    }
   },
   "id": "d1c7029941679767",
   "execution_count": 8
  },
  {
   "cell_type": "markdown",
   "source": [
    "Our last example truly demonstrates the ability for contracts to serve as both a validator but also documentation. "
   ],
   "metadata": {
    "collapsed": false
   },
   "id": "80f1a43fb3bc42c"
  },
  {
   "cell_type": "code",
   "outputs": [],
   "source": [
    "@marvin.func_contract(\n",
    "    pre=lambda user, transaction: marvin.val_contract(\n",
    "        \"The user needs to be authenticated to operate in the same market as the transaction\"\n",
    "    )(user=user, transaction=transaction),\n",
    ")\n",
    "def process_payment(\n",
    "    user: Annotated[\n",
    "        User, Predicate(marvin.val_contract(\"User should be eligible for purchases\"))\n",
    "    ],\n",
    "    transaction: Annotated[\n",
    "        Transaction,\n",
    "        Predicate(\n",
    "            marvin.val_contract(\n",
    "                \"The transaction must not involved illicit drugs or other items banned in PA\"\n",
    "            )\n",
    "        ),\n",
    "    ],\n",
    ") -> None:\n",
    "    # code to process the transaction\n",
    "    pass\n"
   ],
   "metadata": {
    "collapsed": false
   },
   "id": "524669a9adfc83d3"
  },
  {
   "cell_type": "markdown",
   "source": [
    "### Semantic Pattern Matching\n",
    "\n",
    "The final programming pattern we introduce is based on Pattern Matching in programming languages, a feature that allows developers to check a value against a pattern and, if it matches, to deconstruct the value according to the structure of the pattern. This capability is typically used to simplify code that involves multiple conditions or branches, such as in switch statements or complex conditional expressions. However, traditional pattern matching is primarily structural, limited to matching and decomposing data based on predefined patterns that closely align with the data's physical structure. This structural approach restricts its applicability in scenarios where the data's context or semantics might provide a more intuitive understanding. Significantly, traditional pattern matching does not accommodate natural language-based decomposition, which could allow for a more flexible and semantic interpretation of data objects, leveraging the nuances of human language to enhance the match and decomposition processes.\n",
    "\n",
    "Recognizing this limitation, we introduce a notion of *Semantic Pattern Matching* that is operated at the levels of Natural Language, incorporating fuzziness that were previously unattainable by traditional techniques. Currently, we are introducing this language construct as a standalong `match` function. However, as future work, we wish to augment the python `match` function to admit our semantic pattern matching paradigms.  "
   ],
   "metadata": {
    "collapsed": false
   },
   "id": "939fd0eeb0c02bd0"
  },
  {
   "cell_type": "markdown",
   "source": [
    "Revisiting the pilot examples, we demonstrate how *Natural Language Types* could interoperate with *Semantic Pattern Matching*. The constraints and typing information is expressed in the prompt to LMs which matches but also casts the source data(of any serializable type) to the given clauses, should an appropriate one exist. "
   ],
   "metadata": {
    "collapsed": false
   },
   "id": "695178d43a6ac12a"
  },
  {
   "cell_type": "code",
   "outputs": [
    {
     "name": "stdout",
     "output_type": "stream",
     "text": [
      "'Advanced Pilot name Noah Singer flying mainly Boeing 747'\n"
     ]
    },
    {
     "data": {
      "text/plain": "'Student Pilot name Peter Zhong flying mainly Piper Warrior'"
     },
     "execution_count": 11,
     "metadata": {},
     "output_type": "execute_result"
    }
   ],
   "source": [
    "class Pilot(marvin.NaturalLangType):\n",
    "    id: int\n",
    "    name: str\n",
    "    plane_model: str\n",
    "    certificate: str\n",
    "    airport: str\n",
    "\n",
    "\n",
    "class AdvancedPilot(Pilot):\n",
    "    @classmethod\n",
    "    def natural_lang_constraints(cls) -> List[str]:\n",
    "        existing = super().natural_lang_constraints()\n",
    "        new_constraints = [\n",
    "            \"The pilot must hold the appropriate certificate for the plane_model, \"\n",
    "            + 'which should also be a plane that is considered \"big\" with paid passengers'\n",
    "        ]\n",
    "        return existing + new_constraints\n",
    "class StudentPilot(Pilot):\n",
    "    @classmethod\n",
    "    def natural_lang_constraints(cls) -> List[str]:\n",
    "        existing = super().natural_lang_constraints()\n",
    "        new_constraints = [\n",
    "            \"The pilot should not have too much experience\"\n",
    "        ]\n",
    "        return existing + new_constraints\n",
    "\n",
    "print(marvin.match(\n",
    "    \"Noah Singer, employee number 321, is a Boeing 747 Pilot \"\n",
    "    \"holding an Airline Transport Pilot with 1000 hours of operations. \"\n",
    "    \"He mainly flies from KPIT. \",\n",
    "    (AdvancedPilot, lambda pilot: f\"Advanced Pilot name {pilot.name} flying mainly {pilot.plane_model}\"),\n",
    "    fall_through=lambda : print(\"No Advanced Pilot found\")\n",
    "))\n",
    "print(marvin.match(\n",
    "    \"Peter Zhong, employee number 453 is a training pilot flying out of KPJC with 6 hours of experience mainly in Piper Warrior\",\n",
    "    (AdvancedPilot, lambda pilot: f\"Advanced Pilot name {pilot.name} flying mainly {pilot.plane_model}\"),\n",
    "    (StudentPilot, lambda pilot: f\"Student Pilot name {pilot.name} flying mainly {pilot.plane_model}\"),\n",
    "    fall_through=lambda : print(\"No Advanced Pilot found\")\n",
    "))"
   ],
   "metadata": {
    "collapsed": false,
    "ExecuteTime": {
     "end_time": "2024-04-28T06:13:49.516089Z",
     "start_time": "2024-04-28T06:13:45.521847Z"
    }
   },
   "id": "2d54f6a23c2c04b",
   "execution_count": 11
  },
  {
   "cell_type": "markdown",
   "source": [
    "The decomposition and matching is not just at the type level, but could be made to capture arbitrary capture groups in a semantically aware fashion:  "
   ],
   "metadata": {
    "collapsed": false
   },
   "id": "7d9f9e7fcc53102d"
  },
  {
   "cell_type": "code",
   "outputs": [
    {
     "name": "stdout",
     "output_type": "stream",
     "text": [
      "System: Increasing Volume by 10 pts\n"
     ]
    }
   ],
   "source": [
    "marvin.match(\n",
    "    \"Alexa up the sound by 10 points will you? \",\n",
    "    (\"Play Music by {artist}\", lambda artist: artist),\n",
    "    (\"Volume increase by {volume_up} units\", lambda volume_up: print(\"System: Increasing Volume by 10 pts\")),\n",
    "    (\"Lights on\", lambda: True),\n",
    "    (\"Lights off\", lambda: True),\n",
    "    (AdvancedPilot, lambda pilot: print(pilot))\n",
    ")"
   ],
   "metadata": {
    "collapsed": false,
    "ExecuteTime": {
     "end_time": "2024-04-28T06:15:18.892301Z",
     "start_time": "2024-04-28T06:15:17.033101Z"
    }
   },
   "id": "c59345683fa2c17c",
   "execution_count": 12
  },
  {
   "cell_type": "code",
   "outputs": [
    {
     "name": "stdout",
     "output_type": "stream",
     "text": [
      "Turning on the lights\n"
     ]
    }
   ],
   "source": [
    "marvin.match(\n",
    "    \"Alexa, I am feeling the room is a bit dark\",\n",
    "    (\"Play Music by {artist}\", lambda artist: artist),\n",
    "    (\"Volume increase by {volume_up} units\", lambda volume_up: print(\"System: Increasing Volume by 10 pts\")),\n",
    "    (\"Lights on\", lambda: print(\"Turning on the lights\")),\n",
    "    (\"Lights off\", lambda: True),\n",
    "    (AdvancedPilot, lambda pilot: print(pilot))\n",
    ")"
   ],
   "metadata": {
    "collapsed": false,
    "ExecuteTime": {
     "end_time": "2024-04-28T06:15:44.556262Z",
     "start_time": "2024-04-28T06:15:42.778149Z"
    }
   },
   "id": "ccd519407d351d38",
   "execution_count": 14
  },
  {
   "cell_type": "markdown",
   "source": [
    "The pattern is versatile to capture other types that the user may wish to match to: "
   ],
   "metadata": {
    "collapsed": false
   },
   "id": "81c1ef03468f663d"
  },
  {
   "cell_type": "code",
   "outputs": [
    {
     "name": "stdout",
     "output_type": "stream",
     "text": [
      "['Eggs', 'Tomatoes', 'Pineapples', 'Salt', 'Pepper']\n"
     ]
    }
   ],
   "source": [
    "marvin.match(\n",
    "    \"The recipe requires 1. Eggs 2. Tomatoes 3. Pineapples 4. Salt 5. Pepper\",\n",
    "    (list, lambda ls: print(ls))\n",
    ")"
   ],
   "metadata": {
    "collapsed": false,
    "ExecuteTime": {
     "end_time": "2024-04-28T06:16:42.594877Z",
     "start_time": "2024-04-28T06:16:40.137120Z"
    }
   },
   "id": "61e99d4631777c9c",
   "execution_count": 15
  },
  {
   "cell_type": "markdown",
   "source": [
    "There are other features of match that is unsuitable to explain here to its entirety. We refer interested readers to the implementation of the match function. "
   ],
   "metadata": {
    "collapsed": false
   },
   "id": "c47a6ea1124097f7"
  },
  {
   "cell_type": "markdown",
   "source": [
    "## Limitations and Threats to Validity\n",
    "\n",
    "At the design level, the concepts introduced have been implemented within Python and Marvin, subjecting us to the constraints of both systems. Introducing a programming language feature without the ability to modify the underlying language requires us to manipulate existing language features to accommodate new needs, often leading to excessive code \"scaffolding\" instead of a more natural expression of the feature.\n",
    "\n",
    "At the evaluation level, a potential criticism we anticipate is the absence of an evaluation section. Unlike a prompting technique whose effectiveness can be assessed using an existing dataset with controlled variables, language design in programming is fundamentally a human-oriented endeavor. We recognize that the absence of a user study may compromise the validity of this project. Ideally, we would like to determine whether these features truly make LMs more accessible to developers. While many language features could technically be implemented more straightforwardly by \"desugaring\" them, developers often prefer them for their convenience. Without a user study, the actual impact of these language features remains uncertain.\n",
    "\n",
    "## Future Work\n",
    "\n",
    "As mentioned in the limitations section, for future work, we aim to conduct a user-oriented study on the practicality of these constructs, which would enhance our understanding of how software engineers perceive these features.\n",
    "\n",
    "Additionally, we are exploring the possibility of leveraging these insights to develop our own Domain Specific Language (DSL) for LM-centric computations. This DSL would allow us to experiment with LM-centric language features more freely and with greater control, moving beyond the limitations of Python and Marvin. However, for such a language to be truly effective, it must integrate or communicate with traditional languages like Python or Java, utilizing the robust existing ecosystem. Another potential avenue could involve enhancing a language like Python by introducing novel syntax that goes beyond its current structural pattern matching capabilities to include semantic pattern matching.\n",
    "\n",
    "Moreover, the prompting strategies for the current project is fixed. Whilst it is able to leverage tool usage to ensure schema following, it suffers from the same brittleness of manual prompt engineering. However, if we are able to parameterize the logic away from the prompting and embed the language features in a library like DSPy[5], then we could take advantage of its optimization pipeline to improve the accuracy of the process. \n",
    "\n",
    "Lastly, we plan to investigate the possibilities of language-aware code generation. The literature on in-coding context generation—where the LM generates code to fill in specific gaps annotated by programmers—is sparse. Current methods do not capitalize on language-specific attributes such as surrounding typing context and constraints, information that IDEs currently use to provide intellisense recommendations. We see potential for a collaborative design between IDE features and language to harness in-context analysis. Moreover, we aim to explore whether existing unit test frameworks could support code generation. While many code generation techniques currently benefit from unit tests and property-based testing, none have been fully integrated with existing unit testing frameworks. Such integration could significantly enhance the convenience and efficacy of accessing advanced code generation strategies.\n",
    "\n",
    "## Related Work\n",
    "\n",
    "This work is influenced by numerous frameworks that have aimed to simplify or enhance the interaction with LMs through programming languages. Specifically, the idea of natural language signatures is an extension of previous developments in DSP, the forerunner of today’s DSPy project[5]. Additionally, significant efforts have been made to constrain LM outputs to adhere to specific schemas or sets of constraints. Tools such as Instructor[11], Outline[12], and LangChain[13] have implemented mechanisms where LLM outputs are converted into Pydantic models, with associated constraints dynamically validated. However, unlike the Natural Language Types we propose, their validation process relies on standard Pydantic validation methods and does not systematically handle fuzzy natural language constraints or map these constraints directly to the prompts. Moreover, data not represented by the model is discarded, potentially omitting useful information in subsequent processing steps.\n",
    "\n",
    "The concept of a natural language contract system builds on decades of research into software contracts. The Design by Contract approach, popularized by the Eiffel programming language[14], allows programmers to annotate routines with require and ensure clauses, which are then optionally validated dynamically. The syntax we have adopted for Semantic Contracts is especially influenced by the Racket[15] contract system, notably its define/contract structure for individual functions and its ->i contract combinator for dependency among arguments and results. While Racket contracts are inherently higher-order, our design is currently first-order. Exploring the application of Semantic Contracts to a system like Racket could be an intriguing future direction.\n",
    "\n",
    "Lastly, as our work primarily focuses on introducing novel programming language constructs, we see significant parallels with earlier work on programming patterns, particularly Object Relational Mappers[9], which link database tables and queries to the more familiar concepts of programming objects and functions. This pattern closely mirrors our approach of aligning LM constructs with programming language constructs. Additionally, the Natural Language Types draw from the design philosophy of Object-Oriented Design[7], arguing that the patterns of inheritance, polymorphism, and casting remain pertinent in their LM-enhanced counterparts.\n",
    "\n",
    "## Conclusion \n",
    "\n",
    "In conclusion, this research advances the integration of Large Language Models (LLMs) into software engineering by developing new programming constructs designed to improve developer interactions with LLMs. We have introduced Higher Order Types and Functions, Contracts, and Semantic Pattern Matching, along with the concept of 'Natural Language Types'. These tools are designed to bridge the gap between structured programming needs and the fuzzy logic typical of LLMs, offering developers a more intuitive and effective way to utilize AI in software development. Future efforts will focus on further refining these features and assessing their practical impact through user studies. Our goal is to facilitate a more accessible and functional use of LLMs in software engineering, enhancing the overall utility and adoption of AI technologies in the development process. "
   ],
   "metadata": {
    "collapsed": false
   },
   "id": "7477f87d90c6ec40"
  },
  {
   "cell_type": "markdown",
   "source": [],
   "metadata": {
    "collapsed": false
   },
   "id": "443760e2ddaa3537"
  },
  {
   "cell_type": "markdown",
   "source": [
    "[1]: “Introducing code llama, a state-of-the-art large language model for coding,” AI at Meta, https://ai.meta.com/blog/code-llama-large-language-model-coding/ (accessed Apr. 27, 2024). \n",
    "[2]: S. Zhou et al., “Docprompting: Generating code by retrieving the docs,” arXiv.org, https://doi.org/10.48550/arXiv.2207.05987 (accessed Apr. 27, 2024). \n",
    "[3]: P. Y. Zhong et al., “A guide to large language model abstractions,” Two Sigma, https://www.twosigma.com/articles/a-guide-to-large-language-model-abstractions/ (accessed Apr. 28, 2024). \n",
    "[4]: Langsmith, https://smith.langchain.com/hub (accessed Apr. 28, 2024). \n",
    "[5]: O. Khattab et al., “DSPy: Compiling declarative language model calls into self-improving pipelines,” arXiv.org, https://doi.org/10.48550/arXiv.2310.03714 (accessed Apr. 28, 2024). \n",
    "[6]: L. Beurer-Kellner, M. Fischer, and M. Vechev, “Prompting is programming: A query language for large language models,” arXiv.org, https://doi.org/10.48550/arXiv.2212.06094 (accessed Apr. 28, 2024). \n",
    "[7]: K. Nygaard, ‘Basic concepts in object oriented programming’, in Proceedings of the 1986 SIGPLAN Workshop on Object-Oriented Programming, Yorktown Heights, New York, USA, 1986, pp. 128–132.\n",
    "[8]: J. Skeet and E. Lippert, C# in Depth. Shelter Island, NY: Manning Publications Co., 2019. \n",
    "[9]: E. J. O’Neil, ‘Object/relational mapping 2008: hibernate and the entity data model (edm)’, in Proceedings of the 2008 ACM SIGMOD International Conference on Management of Data, Vancouver, Canada, 2008, pp. 1351–1356.\n",
    "[10]: PrefectHQ, “PREFECTHQ/Marvin: ✨ build ai interfaces that spark joy,” GitHub, https://github.com/PrefectHQ/marvin (accessed Apr. 28, 2024). \n",
    "[11]: Jxnl, “JXNL/instructor: Structured outputs for LLMS,” GitHub, https://github.com/jxnl/instructor (accessed Apr. 28, 2024). \n",
    "[12]: Outlines-Dev, “Outlines-dev/outlines: Structured text generation,” GitHub, https://github.com/outlines-dev/outlines (accessed Apr. 28, 2024). \n",
    "[13]: Langchain-Ai, “Langchain-ai/Langchain: 🦜🔗 build context-aware reasoning applications,” GitHub, https://github.com/langchain-ai/langchain (accessed Apr. 28, 2024). \n",
    "[14]: R. Switzer, Eiffel: an introduction. USA: Prentice-Hall, Inc., 1993. \n",
    "[15]: M. Flatt, R. B. Findler, and PLT, “https://docs.racket-lang.org/guide/contracts.html,” Racket Contracts, https://docs.racket-lang.org/guide/contracts.html (accessed Apr. 28, 2024). \n",
    "[16]: S. Yao, J. Zhao, D. Yu, N. Du, I. Shafran, K. Narasimhan, and Y. Cao, \"ReAct: Synergizing Reasoning and Acting in Language Models,\" arXiv:2210.03629 [cs.CL], revised Mar. 10, 2023. Available: https://doi.org/10.48550/arXiv.2210.03629 (accessed Apr. 28, 2024)."
   ],
   "metadata": {
    "collapsed": false
   },
   "id": "18e9d801c91c43ce"
  }
 ],
 "metadata": {
  "kernelspec": {
   "display_name": "Python 3",
   "language": "python",
   "name": "python3"
  },
  "language_info": {
   "codemirror_mode": {
    "name": "ipython",
    "version": 2
   },
   "file_extension": ".py",
   "mimetype": "text/x-python",
   "name": "python",
   "nbconvert_exporter": "python",
   "pygments_lexer": "ipython2",
   "version": "2.7.6"
  }
 },
 "nbformat": 4,
 "nbformat_minor": 5
}
